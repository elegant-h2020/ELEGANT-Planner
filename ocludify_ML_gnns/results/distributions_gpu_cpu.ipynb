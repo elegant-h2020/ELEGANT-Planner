{
 "cells": [
  {
   "cell_type": "code",
   "execution_count": 1,
   "metadata": {},
   "outputs": [],
   "source": [
    "import csv\n",
    "import numpy as np\n",
    "import pandas as pd\n",
    "import seaborn as  sns\n",
    "import matplotlib.pyplot as plt"
   ]
  },
  {
   "cell_type": "code",
   "execution_count": 2,
   "metadata": {},
   "outputs": [
    {
     "name": "stdout",
     "output_type": "stream",
     "text": [
      "0.12.2\n"
     ]
    }
   ],
   "source": [
    "print(sns.__version__)"
   ]
  },
  {
   "cell_type": "markdown",
   "metadata": {},
   "source": [
    "# GPU "
   ]
  },
  {
   "cell_type": "code",
   "execution_count": 3,
   "metadata": {},
   "outputs": [
    {
     "data": {
      "text/plain": [
       "(4945, 10)"
      ]
     },
     "execution_count": 3,
     "metadata": {},
     "output_type": "execute_result"
    }
   ],
   "source": [
    "# gpu = pd.read_csv('/home/marianna/Documents/programl/ML_gnns_git_new/compiled_kernels/final_dataset/allupdatedGPU.csv')\n",
    "# gpu.shape\n",
    "gpu = pd.read_csv('/home/marianna/Documents/programl/ocludify/results/final_gpu.csv')\n",
    "gpu.shape"
   ]
  },
  {
   "cell_type": "code",
   "execution_count": 4,
   "metadata": {},
   "outputs": [
    {
     "name": "stdout",
     "output_type": "stream",
     "text": [
      "149\n",
      "Index(['kernel', 'gsize', 'device', 'input_bytes', 'output_bytes',\n",
      "       'device_mean', 'transfer_mean', 'machine', 'hostcode_mean',\n",
      "       'devicetransfer'],\n",
      "      dtype='object')\n"
     ]
    }
   ],
   "source": [
    "print(gpu.kernel.nunique())\n",
    "print(gpu.columns)\n",
    "epyc7 = gpu[gpu['machine'] == 'epyc7']\n",
    "gold2 = gpu[gpu['machine'] == 'gold2']\n",
    "silver1 = gpu[gpu['machine'] == 'silver1']\n",
    "dungani = gpu[gpu['machine'] == 'dungani']"
   ]
  },
  {
   "cell_type": "code",
   "execution_count": 5,
   "metadata": {},
   "outputs": [],
   "source": [
    "# matplotlib histogram\n",
    "# plt.hist(gold2['input_bytes'], color='blue', edgecolor='black', bins=int(180/5))"
   ]
  },
  {
   "cell_type": "code",
   "execution_count": 6,
   "metadata": {},
   "outputs": [
    {
     "data": {
      "text/plain": [
       "Text(0.5, 9.444444444444438, 'device mean time')"
      ]
     },
     "execution_count": 6,
     "metadata": {},
     "output_type": "execute_result"
    },
    {
     "data": {
      "image/png": "[encoded data removed]",
      "text/plain": [
       "<Figure size 500x500 with 1 Axes>"
      ]
     },
     "metadata": {},
     "output_type": "display_data"
    }
   ],
   "source": [
    "# seaborn histogram\n",
    "machine = 'dungani'\n",
    "sns.displot(dungani['device_mean'], kind=\"hist\", kde=True)#, hist=True, kde=False, bins=int(180/5), color='blue', hist_kws={'edgecolor': 'black'})\n",
    "\n",
    "plt.title(f'Histogram of device mean time for {machine}')\n",
    "plt.xlabel('device mean time')"
   ]
  },
  {
   "cell_type": "code",
   "execution_count": 7,
   "metadata": {},
   "outputs": [],
   "source": [
    "# sns.displot(dungani['device_mean'], kind=\"hist\", kde=True)"
   ]
  },
  {
   "cell_type": "code",
   "execution_count": 8,
   "metadata": {},
   "outputs": [],
   "source": [
    "# plt.figure(figsize=(10,8))\n",
    "# sns.displot(gold2, x=\"device_mean\", y=\"input_bytes\", hue=\"kernel\", kind=\"hist\")"
   ]
  },
  {
   "cell_type": "markdown",
   "metadata": {},
   "source": [
    "From the below bivariate histograms with displot() we can extract the density plots. \n",
    "At first by observing at the OutputBytes with the InputBytes, we can see a little deviation betweeen the values, which is somehow good. However, by observing the Execution time with the InputBytes, we can see that there is not big deviation of execution time values, for the different InputBytes that we used. This is an indicator, that we need to make compile runs with many more bigger InputBytes, so as to gain meaningful values for the Execution times."
   ]
  },
  {
   "cell_type": "code",
   "execution_count": 9,
   "metadata": {},
   "outputs": [],
   "source": [
    "# for name, group in gold2.groupby('kernel'):\n",
    "#     sns.displot(group, x=\"device_mean\", y=\"input_bytes\", hue=\"kernel\", kind=\"hist\")"
   ]
  },
  {
   "cell_type": "code",
   "execution_count": 10,
   "metadata": {},
   "outputs": [],
   "source": [
    "# for name, group in gpu.groupby('Kernel'):\n",
    "#     sns.displot(group, x=\"End-to-End Time\",  hue=\"Kernel\", kind=\"hist\", bins=int(180/5))"
   ]
  },
  {
   "cell_type": "markdown",
   "metadata": {},
   "source": [
    "# CPU"
   ]
  },
  {
   "cell_type": "markdown",
   "metadata": {},
   "source": [
    "From the below bivariate histograms with displot() we can extract the density plots. \n",
    "At first by observing at the OutputBytes with the InputBytes, we can see a little deviation betweeen the values, which is somehow good. However, by observing the Execution time with the InputBytes, we can see that there is not big deviation of execution time values, for the different InputBytes that we used. This is an indicator, that we need to make compile runs with many more bigger InputBytes, so as to gain meaningful values for the Execution times."
   ]
  },
  {
   "cell_type": "code",
   "execution_count": 12,
   "metadata": {},
   "outputs": [
    {
     "data": {
      "text/plain": [
       "(1111, 10)"
      ]
     },
     "execution_count": 12,
     "metadata": {},
     "output_type": "execute_result"
    }
   ],
   "source": [
    "# cpu = pd.read_csv('/home/marianna/Documents/programl/ML_gnns_git_new/compiled_kernels/final_dataset/allupdatedCPU.csv')\n",
    "# cpu.shape\n",
    "\n",
    "cpu = pd.read_csv('/home/marianna/Documents/programl/ocludify/results/final_cpu.csv')\n",
    "cpu.shape"
   ]
  },
  {
   "cell_type": "code",
   "execution_count": 13,
   "metadata": {},
   "outputs": [
    {
     "name": "stdout",
     "output_type": "stream",
     "text": [
      "90\n",
      "Index(['kernel', 'gsize', 'device', 'input_bytes', 'output_bytes',\n",
      "       'device_mean', 'transfer_mean', 'machine', 'hostcode_mean',\n",
      "       'devicetransfer'],\n",
      "      dtype='object')\n"
     ]
    }
   ],
   "source": [
    "print(cpu.kernel.nunique())\n",
    "print(cpu.columns)\n",
    "epyc7_cpu = cpu[cpu['machine'] == 'epyc7']\n",
    "gold2_cpu = cpu[cpu['machine'] == 'gold2']\n",
    "silver1_cpu = cpu[cpu['machine'] == 'silver1']\n",
    "dungani_cpu = cpu[cpu['machine'] == 'dungani']"
   ]
  },
  {
   "cell_type": "code",
   "execution_count": 24,
   "metadata": {},
   "outputs": [
    {
     "data": {
      "text/plain": [
       "Text(0.5, 9.444444444444438, 'device transfer mean time')"
      ]
     },
     "execution_count": 24,
     "metadata": {},
     "output_type": "execute_result"
    },
    {
     "data": {
      "image/png": "[encoded data removed]",
      "text/plain": [
       "<Figure size 500x500 with 1 Axes>"
      ]
     },
     "metadata": {},
     "output_type": "display_data"
    }
   ],
   "source": [
    "# seaborn histogram\n",
    "machine = 'dungani'\n",
    "sns.displot(dungani_cpu['devicetransfer'], kind=\"hist\", kde=True)\n",
    "plt.title(f'Histogram of device transfer mean for {machine} cpu')\n",
    "plt.xlabel('device transfer mean time')"
   ]
  },
  {
   "cell_type": "code",
   "execution_count": 22,
   "metadata": {},
   "outputs": [],
   "source": [
    "# # seaborn histogram\n",
    "# sns.displot(cpu['End-to-End Time'], kind=\"hist\", kde=True)\n",
    "# plt.title('Histogram of Execution Time')\n",
    "# plt.xlabel('Execution time')"
   ]
  },
  {
   "cell_type": "code",
   "execution_count": 26,
   "metadata": {},
   "outputs": [],
   "source": [
    "# for name, group in cpu.groupby('Kernel'):\n",
    "#     sns.jointplot(group, x=\"End-to-End Time\", hue=\"Kernel\", kind=\"hist\")"
   ]
  },
  {
   "cell_type": "code",
   "execution_count": 27,
   "metadata": {},
   "outputs": [],
   "source": [
    "# for name, group in cpu.groupby('Kernel'):\n",
    "#     sns.displot(group, x=\"End-to-End Time\", y=\"InputBytes\", hue=\"Kernel\", kind=\"hist\")"
   ]
  },
  {
   "cell_type": "code",
   "execution_count": 28,
   "metadata": {},
   "outputs": [],
   "source": [
    "# for name, group in cpu.groupby('Kernel'):\n",
    "#     sns.displot(group, x=\"End-to-End Time\", hue=\"Kernel\", kind=\"hist\")"
   ]
  },
  {
   "cell_type": "code",
   "execution_count": null,
   "metadata": {},
   "outputs": [],
   "source": []
  }
 ],
 "metadata": {
  "kernelspec": {
   "display_name": "Python 3.8.13 ('pytorch_geometric')",
   "language": "python",
   "name": "python3"
  },
  "language_info": {
   "codemirror_mode": {
    "name": "ipython",
    "version": 3
   },
   "file_extension": ".py",
   "mimetype": "text/x-python",
   "name": "python",
   "nbconvert_exporter": "python",
   "pygments_lexer": "ipython3",
   "version": "3.10.4"
  },
  "orig_nbformat": 4,
  "vscode": {
   "interpreter": {
    "hash": "7a8a05044085403532417a67135954388428448b4ae1e72c6cf694bb838135d6"
   }
  }
 },
 "nbformat": 4,
 "nbformat_minor": 2
}
